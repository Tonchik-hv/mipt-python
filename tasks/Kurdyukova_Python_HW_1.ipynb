{
 "cells": [
  {
   "cell_type": "markdown",
   "metadata": {},
   "source": [
    "## Домашнее задание №1 (курс \"Практикум по программированию на языке Python\")"
   ]
  },
  {
   "cell_type": "markdown",
   "metadata": {},
   "source": [
    "### Тема: Введение в язык Python.\n",
    "\n",
    "**Автор**: Мурат Апишев\n",
    "\n",
    "**Выдана**:   25 февраля 2021\n",
    "\n",
    "**Дедлайн**:  21:00 11 марта 2021\n",
    "\n",
    "**Среда выполнения**: Jupyter Notebook (Python 3.7+)\n",
    "\n",
    "#### Правила:\n",
    "\n",
    "Результат выполнения задания - Jupyter Notebook с кодом. __Максимальное число баллов за задание - 20__.\n",
    "\n",
    "Все ячейки должны быть \"выполненными\", при этом результат должен воспроизводиться при проверке (на Python 3.7). Если какой-то код не был запущен или отрабатывает с ошибками, то пункт не засчитывается. Задание, сданное после дедлайна, _не принимается_. Можно отправить недоделанное задание, выполненные пункты будут оценены.\n",
    "\n",
    "Готовое задание отправляется на почту mel-lain@yandex.ru.\n",
    "\n",
    "Задание выполняется самостоятельно. Если какие-то студенты будут уличены в списывании, все они автоматически получат за эту работу 0 баллов. Если вы нашли в Интернете какой-то специфичный код, который собираетесь заимствовать, обязательно укажите это в задании - наверняка вы не единственный, кто найдёт и использует эту информацию.\n",
    "\n",
    "__Удалять фрагменты формулировок заданий запрещается.__"
   ]
  },
  {
   "cell_type": "markdown",
   "metadata": {},
   "source": [
    "#### Постановка задачи:\n",
    "\n",
    "- В данной работе нужно решить набор задач, проверяющих владение базовыми инструментами языка.\n",
    "- Каждая задача представляет собой написание одной или более функций, а также набора тестов, проверяющих работу этой функции в общих и крайних случаях.\n",
    "- Отсутствие тестов автоматически уменьшает количество баллов за задание как минимум в два раза, некачественные тесты также будут штрафоваться.\n",
    "- Если в задании указано использовать несколько разных вариантов решения, подразумевается использование различных инструментов (циклы, списковые включения, генераторы, встроенные функции, функции модулей стандартной библотеки и т.п.), замена, например, цикла for на цикл while не является иным способом решения.\n",
    "- Даже если это не указано явно в требованиях, код должен быть по возможности неизбыточным, работать с разумной сложностью и объёмом потребялемой памяти, проверяющие могут снизить балл за задание, выполненное без учёта этого требования.\n",
    "- Результирующий код должен быть читаемым, с единой системой отступов и адеквантными названиями переменных, проверяющие могут снизить балл за задание, выполненное без учёта этого требования."
   ]
  },
  {
   "cell_type": "markdown",
   "metadata": {},
   "source": [
    "__Задание 1 (0.5 балла):__ Дано натуральное число. Требуется определить, является ли год с данным номером високосным. Если год является високосным, то выведите YES, иначе выведите NO. Напомним, что в соответствии с григорианским календарем, год является високосным, если его номер кратен 4, но не кратен 100, а также если он кратен 400."
   ]
  },
  {
   "cell_type": "code",
   "execution_count": 32,
   "metadata": {},
   "outputs": [
    {
     "name": "stdout",
     "output_type": "stream",
     "text": [
      "YES\n",
      "NO\n",
      "YES\n",
      "NO\n"
     ]
    }
   ],
   "source": [
    "def task_01_func(year):\n",
    "    print('YES' if (year % 400 == 0) or (year % 100 != 0 and year % 4 == 0) else 'NO')\n",
    "         \n",
    "#Тесты\n",
    "task_01_func(1200) #Число делится на 400\n",
    "task_01_func(1700) #Число не делится на 400, делится на 4, но делится на 100\n",
    "task_01_func(2016) #Число не делится на 100 и делится на 4\n",
    "task_01_func(2005) #Число не делится на 100 и делится на 4       "
   ]
  },
  {
   "cell_type": "markdown",
   "metadata": {},
   "source": [
    "__Задание 2 (0.5 балла):__ Дано натуральное число. Найдите число знаков в его десятичной записи. Предложите как минимум два различных решения."
   ]
  },
  {
   "cell_type": "code",
   "execution_count": 62,
   "metadata": {},
   "outputs": [
    {
     "name": "stdout",
     "output_type": "stream",
     "text": [
      "2\n",
      "9\n",
      "1\n",
      "\n",
      "\n",
      "2\n",
      "10\n",
      "1\n"
     ]
    }
   ],
   "source": [
    "import math\n",
    "\n",
    "def task_02_func(number): #Способ 1\n",
    "    count = 0\n",
    "    while number >= 1:\n",
    "        number /= 10\n",
    "        count += 1\n",
    "    print(count)\n",
    "\n",
    "#Тесты\n",
    "task_02_func(33) \n",
    "task_02_func(123456789)\n",
    "task_02_func(4)\n",
    "print('\\n')\n",
    "  \n",
    "def task_02_f(number): #Способ 2, идея подсмотрена тут https://coderoad.ru/2189800/Длина-целого-числа-в-Python\n",
    "    number = int(math.log10(number)) + 1\n",
    "    print(number)\n",
    " \n",
    " #Тесты\n",
    "task_02_f(66) \n",
    "task_02_f(3123231231)\n",
    "task_02_f(2)  \n"
   ]
  },
  {
   "cell_type": "markdown",
   "metadata": {},
   "source": [
    "__Задание 3 (0.5 балла):__ По данному натуральном n вычислите сумму 1!+2!+3!+...+n!. В решении этой задачи с помощью циклов можно использовать только один цикл. Предложите как минимум два различных решения."
   ]
  },
  {
   "cell_type": "code",
   "execution_count": 76,
   "metadata": {},
   "outputs": [
    {
     "name": "stdout",
     "output_type": "stream",
     "text": [
      "1\n",
      "33\n",
      "46233\n",
      "\n",
      "\n",
      "1\n",
      "33\n",
      "46233\n"
     ]
    }
   ],
   "source": [
    "import math\n",
    "\n",
    "def task_03_func(n): #Способ 1, используем цикл\n",
    "    s = 0\n",
    "    for i in range(1, n + 1):\n",
    "        s += math.factorial(i)\n",
    "    print(s) \n",
    "\n",
    "#Тесты    \n",
    "task_03_func(1)\n",
    "task_03_func(4)\n",
    "task_03_func(8)\n",
    "\n",
    "print('\\n')\n",
    "\n",
    "def task_03_f(n): #Способ 2, опрерируем списком\n",
    "    lst = [math.factorial(i) for i in range(1, n)]\n",
    "    return sum(lst)\n",
    "\n",
    "#Тесты\n",
    "task_03_func(1)\n",
    "task_03_func(4)\n",
    "task_03_func(8)"
   ]
  },
  {
   "cell_type": "markdown",
   "metadata": {},
   "source": [
    "__Задание 4 (0.5 балла):__ Определить, является ли введённая строка палиндромом (то есть одинаково читается с обеих сторон). Предложите как минимум три различных решения."
   ]
  },
  {
   "cell_type": "code",
   "execution_count": 101,
   "metadata": {},
   "outputs": [
    {
     "name": "stdout",
     "output_type": "stream",
     "text": [
      "s is a palindromo\n",
      "s is a palindromo\n",
      "s isn't a palindromo\n",
      "\n",
      "\n",
      "s is a palindromo\n",
      "s is a palindromo\n",
      "s isn't a palindromo\n",
      "\n",
      "\n",
      "s is a palindromo\n",
      "s is a palindromo\n",
      "s isn't a palindromo\n"
     ]
    }
   ],
   "source": [
    "def task_04_func(s): #Способ 1\n",
    "    print('s is a palindromo' if s == s[::-1] else \"s isn't a palindromo\")\n",
    "    \n",
    "#Тесты\n",
    "task_04_func('abba')\n",
    "task_04_func('abcba')\n",
    "task_04_func('abcde')\n",
    "\n",
    "print('\\n')\n",
    "\n",
    "def task_04_f(s): #Способ 2\n",
    "    count = 0\n",
    "    for i in range(len(s) // 2 + 1):\n",
    "        if s[i] != s[len(s) - i - 1]:\n",
    "            count += 1\n",
    "    print('s is a palindromo' if count == 0 else \"s isn't a palindromo\")\n",
    "\n",
    "#Тесты\n",
    "task_04_f('abba')\n",
    "task_04_f('abcba')\n",
    "task_04_f('abcdd')\n",
    "\n",
    "print('\\n')\n",
    "\n",
    "def task_04_function(s): #Способ 3\n",
    "    print('s is a palindromo' if s[:len(s) // 2][::-1] == s[len(s) - (len(s) // 2):] else \"s isn't a palindromo\")\n",
    "    \n",
    "#Тесты\n",
    "task_04_function('abba')\n",
    "task_04_function('abcba')\n",
    "task_04_function('abcdd')"
   ]
  },
  {
   "cell_type": "markdown",
   "metadata": {},
   "source": [
    "__Задание 5 (1 балл):__ Дан текст в виде строки. Напишите функцию, которая возвращает словарь, где ключами являются уникальные слова из этого текста, а значениями - число раз, которое данное слово встретилось в тексте. Считать, что слова разделяются пробелами. Предложите как минимум два различных решения."
   ]
  },
  {
   "cell_type": "code",
   "execution_count": 147,
   "metadata": {},
   "outputs": [
    {
     "name": "stdout",
     "output_type": "stream",
     "text": [
      "{'в': 1, 'первый': 1, 'день': 1, 'весны': 1}\n",
      "{'на': 1, 'краешке': 1, 'земли': 1}\n",
      "{'я': 3, 'не': 2, 'знаю': 2, 'что': 3, 'это': 3, 'такое': 3, 'если': 1, 'бы': 1, 'знала': 1}\n",
      "\n",
      "\n",
      "{'весны': 1, 'первый': 1, 'в': 1, 'день': 1}\n",
      "{'земли': 1, 'краешке': 1, 'на': 1}\n",
      "{'что': 3, 'знала': 1, 'не': 2, 'я': 3, 'бы': 1, 'если': 1, 'знаю': 2, 'это': 3, 'такое': 3}\n"
     ]
    }
   ],
   "source": [
    "def task_05_func(text): #Способ 1\n",
    "    text = text.lower()\n",
    "    lst = text.split()\n",
    "    d = dict.fromkeys(lst, 1)\n",
    "    for e in d.keys():\n",
    "        for r in lst:\n",
    "            if(e == r):\n",
    "                d[e] += 1\n",
    "        d[e] -= 1\n",
    "    print(d)\n",
    "\n",
    "#Тесты\n",
    "task_05_func('В первый день весны')\n",
    "task_05_func('На краешке Земли')\n",
    "task_05_func('Я не знаю что это такое если бы я знала что это такое я не знаю что это такое')\n",
    "\n",
    "print('\\n')\n",
    "\n",
    "def task_05_f(text): #Способ 2, идею подсмотрела тут https://www.cyberforum.ru/python-beginners/thread2587116.html\n",
    "    text = text.lower()\n",
    "    lst = text.split()\n",
    "    s = set(lst)\n",
    "    d ={}\n",
    "    for e in s:\n",
    "        d[e] = lst.count(e)\n",
    "    print(d)\n",
    " \n",
    " #Тесты\n",
    "task_05_f('В первый день весны')\n",
    "task_05_f('На краешке Земли')\n",
    "task_05_f('Я не знаю что это такое если бы я знала что это такое я не знаю что это такое')\n"
   ]
  },
  {
   "cell_type": "markdown",
   "metadata": {},
   "source": [
    "__Задание 6 (1 балл):__ Напишите функцию, которая принимает на вход строку и символ и возвращает:\n",
    "\n",
    "- если символ встретился в строке один раз - кортеж (индекс вхождения, None);\n",
    "- если два и более раз - кортеж (индекс первого вхождения, индекс последнего вхождения);\n",
    "- если ни разу - кортеж (None, None).\n",
    "\n",
    "Запрещается делать более одного прохода по каждому элементу строки."
   ]
  },
  {
   "cell_type": "code",
   "execution_count": 154,
   "metadata": {},
   "outputs": [
    {
     "name": "stdout",
     "output_type": "stream",
     "text": [
      "[1, 5]\n",
      "[None, None]\n",
      "[2, None]\n"
     ]
    }
   ],
   "source": [
    "def task_06_func(s, char): #Код подсмотрела здесь https://ru.stackoverflow.com/questions/779572/Первое-и-последнее-вхождение-без-метода-count-и-циклов\n",
    "    tpl = ([None, None])\n",
    "    a = s.find(char)\n",
    "    b = s.rfind(char)\n",
    "    if a == -1:\n",
    "        print(tpl)\n",
    "    elif a == b:\n",
    "        tpl[0] = a\n",
    "        print(tpl)\n",
    "    else:\n",
    "        tpl[0] = a\n",
    "        tpl[1] = b\n",
    "        print(tpl)\n",
    "\n",
    "#Тетсы\n",
    "task_06_func('молоко', 'о')\n",
    "task_06_func('солнышко', 'а')\n",
    "task_06_func('ёжик', 'и')"
   ]
  },
  {
   "cell_type": "raw",
   "metadata": {},
   "source": [
    "__Задание 7 (1 балл):__ Дан список целых чисел. Напишите функцию, которая возвращает копию этого списка, из которой удалены отрицательные числа, а все прочие числа возведены в квадрат. Также возвращаемая последовательность должна быть отсортирована по убыванию. Предложите как минимум три различных решения."
   ]
  },
  {
   "cell_type": "code",
   "execution_count": 203,
   "metadata": {},
   "outputs": [
    {
     "name": "stdout",
     "output_type": "stream",
     "text": [
      "[64, 49, 25, 4]\n",
      "[64, 49, 25, 4]\n",
      "[64, 49, 25, 4]\n"
     ]
    }
   ],
   "source": [
    "def task_07_func(lst): #Способ 1\n",
    "    l = []\n",
    "    for e in lst:\n",
    "        if e >= 0:\n",
    "            l.append(e * e)\n",
    "    l.sort(reverse = True)\n",
    "    print(l)\n",
    "    \n",
    "#Тест    \n",
    "task_07_func([2, 5, -1, 7, 8, -4])\n",
    "\n",
    "\n",
    "def task_07_f(lst): #Способ 2\n",
    "    l = lst.copy()\n",
    "    j = 0\n",
    "    for i, e in enumerate(lst):\n",
    "        if e < 0:\n",
    "            l.remove(e)\n",
    "        else:\n",
    "            l[j] *= l[j]\n",
    "            j += 1\n",
    "    l.sort(reverse = True)\n",
    "    print(l)\n",
    "    \n",
    "#Тест\n",
    "task_07_f([2, 5, -1, 7, 8, -4])\n",
    "\n",
    "def task_07_function(lst): #Способ 3\n",
    "    f = filter(lambda x: x >= 0, lst)\n",
    "    m = map(lambda x: x ** 2, f)\n",
    "    l = list(m)\n",
    "    l.sort(reverse = True)\n",
    "    print(l)\n",
    "    \n",
    "#Тест  \n",
    "task_07_function([2, 5, -1, 7, 8, -4])\n"
   ]
  },
  {
   "cell_type": "markdown",
   "metadata": {},
   "source": [
    "__Задание 8 (1 балл):__ Напишите функцию, которая принимает на вход список кортежей одинаковой длины и индекс `index` элемента в кортеже и возвращает генератор, итерирование по которому позволит получит все кортежи входного списка, отсортированные по убыванию элементов этих кортежей с индексом `index`."
   ]
  },
  {
   "cell_type": "code",
   "execution_count": 6,
   "metadata": {},
   "outputs": [
    {
     "name": "stdout",
     "output_type": "stream",
     "text": [
      "(7, 8, 9)\n",
      "(4, 5, 6)\n",
      "(1, 2, 3)\n",
      "\n",
      "\n",
      "(7, 'R', 10)\n",
      "(4, 'X', 7)\n",
      "(1, 'A', None)\n"
     ]
    }
   ],
   "source": [
    "def task_08_func(lst, index):\n",
    "    lst = sorted(lst, key = lambda x: x[index], reverse = True)\n",
    "    for tpl in lst:\n",
    "        yield tpl\n",
    "        \n",
    "#Тесты    \n",
    "for e in task_08_func([(1, 2, 3), (7, 8, 9), (4, 5, 6)], 1):\n",
    "    print(e)\n",
    "    \n",
    "print('\\n')\n",
    "    \n",
    "for e in task_08_func([(1, 'A', None), (4, 'X', 7), (7, 'R', 10)], 0):\n",
    "    print(e)"
   ]
  },
  {
   "cell_type": "markdown",
   "metadata": {},
   "source": [
    "__Задание 9 (1 балл):__ Напишите функцию, которая получает на вход натуральное число `n` и выводит первые `n` строк треугольника Паскаля."
   ]
  },
  {
   "cell_type": "code",
   "execution_count": 17,
   "metadata": {},
   "outputs": [
    {
     "name": "stdout",
     "output_type": "stream",
     "text": [
      "[1]\n",
      "[1, 1]\n",
      "[1, 2, 1]\n",
      "[1, 3, 3, 1]\n",
      "[1, 4, 6, 4, 1]\n"
     ]
    }
   ],
   "source": [
    "def current_row(n): #Идею подсмотрела тут https://www.cyberforum.ru/python-beginners/thread2164097.html\n",
    "    row = []\n",
    "    for i in range(n):\n",
    "        if i == 0 or i == n-1:\n",
    "            row.append(1)\n",
    "        else:\n",
    "            c_row = current_row(n-1)\n",
    "            row.append(c_row[i-1] + c_row[i])\n",
    "    return(row)\n",
    "\n",
    "\n",
    "\n",
    "def task_09_func(n):\n",
    "    for i in range(1, n+1):\n",
    "        print(current_row(i))\n",
    "\n",
    "task_09_func(5)"
   ]
  },
  {
   "cell_type": "markdown",
   "metadata": {},
   "source": [
    "__Задание 10 (1 балл):__ Напишите функцию, которая принимает на вход абсолютный путь к директории и две строки с расширениями файлов. В результате её выполнения у всех файлов в указанной директории, имеющих первое расширение, расширение должно измениться на второе. В конце работы функция должна возвращать кортеж из двух элементов:\n",
    "\n",
    "1. сколько всего в директории файлов (именно файлов, не директорий);\n",
    "2. у скольки из них расширение было изменено.\n",
    "\n",
    "Допускается только один проход по каждому файлу из указанной директории."
   ]
  },
  {
   "cell_type": "code",
   "execution_count": 170,
   "metadata": {},
   "outputs": [],
   "source": [
    "import pathlib\n",
    "from pathlib import Path\n",
    "import os \n",
    "\n",
    "def task_10_func(dir_path, prev_extension, next_extension):\n",
    "    t1 = 0\n",
    "    t2 = 0\n",
    "    for r, d, f in os.walk(dir_path):\n",
    "        for e in f:\n",
    "            t1 += 1\n",
    "            if os.path.splitext(e)[1] == prev_extension:\n",
    "                name =  os.path.splitext(e)[0]\n",
    "                os.rename(e, name + next_extension)\n",
    "                t2 += 1\n",
    "    return(tuple([t1, t2]))"
   ]
  },
  {
   "cell_type": "markdown",
   "metadata": {},
   "source": [
    "__Задание 11 (1 балл):__ Описать функцию, которая принимает на вход два списка и возвращает список уникальных элементов, которые есть в первом входном списке и отсутствуют во втором. Запрещается использовать циклы и списковые включения/генераторы списков."
   ]
  },
  {
   "cell_type": "code",
   "execution_count": 21,
   "metadata": {},
   "outputs": [
    {
     "name": "stdout",
     "output_type": "stream",
     "text": [
      "['b']\n",
      "\n",
      "\n",
      "[3, 5, 6]\n"
     ]
    }
   ],
   "source": [
    "def task_11_func(first_list, second_list):\n",
    "    A = set(first_list)\n",
    "    B = set(second_list)\n",
    "    A = A - B\n",
    "    print(list(A))\n",
    "    \n",
    "task_11_func(['a', 'b', 'c'], ['a', 'c', 'd'])\n",
    "\n",
    "print('\\n')\n",
    "\n",
    "task_11_func([1, 1, 3, 5, 6, 10, 5], [1, 10])"
   ]
  },
  {
   "cell_type": "markdown",
   "metadata": {},
   "source": [
    "__Задание 12 (1 балл):__ Напишите функцию, которая получает на вход путь к файлу, в котором в каждой строке записано одно вещественное число, а также путь к выходному файлу. Функция должна прочитать содержимое файла, игнорировать строки с нечётными индексами, а строки с чётными индексами должна увеличить на минимальное из чисел, содержащихся в этом файле. Полученные числа нужно записать в выходной файл с точностью 5 знаков после запятой.\n",
    "\n",
    "Требуется сделать не более двух проходов по входному файлу, расход памяти на протяжении работы должен быть O(1) (то есть никак не зависеть от числа строк во входном файле)."
   ]
  },
  {
   "cell_type": "code",
   "execution_count": 295,
   "metadata": {},
   "outputs": [],
   "source": [
    "import os\n",
    "import ntpath\n",
    "\n",
    "def task_12_func(input_path, output_path):\n",
    "\n",
    "    with open(ntpath.basename(input_path), 'r') as f1:\n",
    "        with open(ntpath.basename(output_path), 'a') as f2:\n",
    "\n",
    "            m1 = f1.readlines()\n",
    "            m2 = list(map(lambda x: float(x[:len(x) - 1]), m1))\n",
    "            MIN = min(m2)\n",
    "        \n",
    "            for i, e in enumerate(m2):\n",
    "                if i % 2 == 0:\n",
    "                    l = e + MIN\n",
    "                    f2.write('{:.5f}\\n'.format(l))\n",
    "            f2.close()\n",
    "            f1.close()\n",
    "\n"
   ]
  },
  {
   "cell_type": "markdown",
   "metadata": {},
   "source": [
    "__Задание 13 (1 балл):__ Написать функцию, которая принимает на вход число `n`, которое может быть либо натуральным, либо -1, и возвращает генератор чисел Фиббоначи. Если входной параметр равен натуральному числу, то генератор должен выдавать последовательно числа Фиббоначи до `n`-го. Если `n` равно -1, то генератор должен быть бесконечным."
   ]
  },
  {
   "cell_type": "code",
   "execution_count": 35,
   "metadata": {},
   "outputs": [
    {
     "name": "stdout",
     "output_type": "stream",
     "text": [
      "1\n",
      "1\n",
      "2\n",
      "3\n",
      "5\n",
      "8\n",
      "13\n",
      "21\n",
      "34\n",
      "55\n",
      "\n",
      "\n",
      "1\n",
      "1\n",
      "2\n",
      "3\n",
      "5\n",
      "8\n",
      "13\n",
      "21\n",
      "34\n",
      "55\n",
      "89\n",
      "144\n",
      "233\n",
      "377\n",
      "610\n",
      "987\n",
      "1597\n",
      "2584\n"
     ]
    }
   ],
   "source": [
    "from itertools import count\n",
    "\n",
    "def task_13_func(n):\n",
    "    f1 = 1\n",
    "    f2 = 1\n",
    "    for i in count(start = 0):\n",
    "        c = f1\n",
    "        f1 = f2\n",
    "        f2 += c\n",
    "        if(i == n):\n",
    "            break\n",
    "        yield c\n",
    "        \n",
    "#Тесты\n",
    "for e in task_13_func(10):\n",
    "        print(e)\n",
    "        \n",
    "print('\\n')\n",
    "        \n",
    "for e in task_13_func(-1):\n",
    "        print(e)\n",
    "        if e == 2584: #Останавливаем бесконечный генератор, например, на таком числе фиббоначи\n",
    "            break"
   ]
  },
  {
   "cell_type": "markdown",
   "metadata": {},
   "source": [
    "__Задание 14 (1 балл):__ Написать функцию, которая принимает на вход произвольный объект, проверяет его тип, и для целого числа возвращает список всех магических методов объекта, начинающихся с `__a`, для строк - с `__s`. Для всех прочих типов должен возвращаться список немагических методов. В задании запрещается использовать циклы и списковые включения/генераторы списков."
   ]
  },
  {
   "cell_type": "code",
   "execution_count": 58,
   "metadata": {},
   "outputs": [
    {
     "name": "stdout",
     "output_type": "stream",
     "text": [
      "['__abs__', '__add__', '__and__']\n",
      "['__abs__', '__add__', '__and__', '__bool__', '__ceil__', '__class__', '__delattr__', '__dir__', '__divmod__', '__doc__', '__eq__', '__float__', '__floor__', '__floordiv__', '__format__', '__ge__', '__getattribute__', '__getnewargs__', '__gt__', '__hash__', '__index__', '__init__', '__init_subclass__', '__int__', '__invert__', '__le__', '__lshift__', '__lt__', '__mod__', '__mul__', '__ne__', '__neg__', '__new__', '__or__', '__pos__', '__pow__', '__radd__', '__rand__', '__rdivmod__', '__reduce__', '__reduce_ex__', '__repr__', '__rfloordiv__', '__rlshift__', '__rmod__', '__rmul__', '__ror__', '__round__', '__rpow__', '__rrshift__', '__rshift__', '__rsub__', '__rtruediv__', '__rxor__', '__setattr__', '__sizeof__', '__str__', '__sub__', '__subclasshook__', '__truediv__', '__trunc__', '__xor__', 'bit_length', 'conjugate', 'denominator', 'from_bytes', 'imag', 'numerator', 'real', 'to_bytes']\n",
      "\n",
      "\n",
      "['__setattr__', '__sizeof__', '__str__', '__subclasshook__']\n",
      "['__add__', '__class__', '__contains__', '__delattr__', '__dir__', '__doc__', '__eq__', '__format__', '__ge__', '__getattribute__', '__getitem__', '__getnewargs__', '__gt__', '__hash__', '__init__', '__init_subclass__', '__iter__', '__le__', '__len__', '__lt__', '__mod__', '__mul__', '__ne__', '__new__', '__reduce__', '__reduce_ex__', '__repr__', '__rmod__', '__rmul__', '__setattr__', '__sizeof__', '__str__', '__subclasshook__', 'capitalize', 'casefold', 'center', 'count', 'encode', 'endswith', 'expandtabs', 'find', 'format', 'format_map', 'index', 'isalnum', 'isalpha', 'isdecimal', 'isdigit', 'isidentifier', 'islower', 'isnumeric', 'isprintable', 'isspace', 'istitle', 'isupper', 'join', 'ljust', 'lower', 'lstrip', 'maketrans', 'partition', 'replace', 'rfind', 'rindex', 'rjust', 'rpartition', 'rsplit', 'rstrip', 'split', 'splitlines', 'startswith', 'strip', 'swapcase', 'title', 'translate', 'upper', 'zfill']\n",
      "\n",
      "\n",
      "['append', 'clear', 'copy', 'count', 'extend', 'index', 'insert', 'pop', 'remove', 'reverse', 'sort']\n",
      "['__add__', '__class__', '__contains__', '__delattr__', '__delitem__', '__dir__', '__doc__', '__eq__', '__format__', '__ge__', '__getattribute__', '__getitem__', '__gt__', '__hash__', '__iadd__', '__imul__', '__init__', '__init_subclass__', '__iter__', '__le__', '__len__', '__lt__', '__mul__', '__ne__', '__new__', '__reduce__', '__reduce_ex__', '__repr__', '__reversed__', '__rmul__', '__setattr__', '__setitem__', '__sizeof__', '__str__', '__subclasshook__', 'append', 'clear', 'copy', 'count', 'extend', 'index', 'insert', 'pop', 'remove', 'reverse', 'sort']\n"
     ]
    }
   ],
   "source": [
    "def task_14_func(n):\n",
    "    if(type(n) == type(5)):\n",
    "        print(list(filter(lambda x: x[:3] == '__a', dir(n))))\n",
    "    elif(type(n) == type('yuy')):\n",
    "        print(list(filter(lambda x: x[:3] == '__s', dir(n))))\n",
    "    else:\n",
    "        print(list(filter(lambda x: x[:2] != '__', dir(n))))\n",
    "\n",
    "#Тесты\n",
    "task_14_func(5)\n",
    "print(list(dir(5)))\n",
    "print('\\n')\n",
    "\n",
    "task_14_func('abc')\n",
    "print(list(dir('abc')))\n",
    "print('\\n')\n",
    "\n",
    "task_14_func([1, 3, 4, 6])\n",
    "print(list(dir([1, 3, 4, 6])))\n"
   ]
  },
  {
   "cell_type": "markdown",
   "metadata": {},
   "source": [
    "__Задание 15 (1.5 балла):__ Написать функцию, которая во входной строке заменяет вхождения всех английских заглавных букв на их номер в таблице ASCII, затем производит сплит по минимальной из цифр строки. Предложите как минимум два различных решения, одно из которых не должно использовать циклы. При использовании циклов допускается не более двух проходов по строке."
   ]
  },
  {
   "cell_type": "code",
   "execution_count": 257,
   "metadata": {},
   "outputs": [
    {
     "name": "stdout",
     "output_type": "stream",
     "text": [
      "adsdvr65dcs83dvd65cdcsd69fv\n",
      "['adsdvr65dcs8', 'dvd65cdcsd69fv']\n",
      "\n",
      "\n",
      "fvf1svsv1fvadfv71fvdfv67dfs343\n",
      "['fvf', 'svsv', 'fvadfv7', 'fvdfv67dfs343']\n",
      "\n",
      "\n",
      "vfkvndfkjvdfk\n",
      "['vfkvndfkjvdfk']\n",
      "\n",
      "\n",
      "vvmslk1mvvlkm5vf\n",
      "['vvmslk', 'mvvlkm5vf']\n"
     ]
    }
   ],
   "source": [
    "#Способ 1\n",
    "def task_15_func(n):\n",
    "    n1 = \"\"\n",
    "    m = 10\n",
    "    for e in n:\n",
    "        if ord(e) >= 65 and ord(e) <= 90:\n",
    "            n1 += str(ord(e))\n",
    "            a = ord(e) // 10\n",
    "            b = ord(e) - a * 10\n",
    "            if min(a, b) < m:\n",
    "                m = min(a, b)\n",
    "        else:\n",
    "            n1 += e\n",
    "            if ord(e) >= 48 and ord(e) <= 57 and int(e) < m:\n",
    "                m = int(e)\n",
    "    print(n1) #для тестов\n",
    "    print(n1.split(str(m)))\n",
    "    \n",
    "#Тесты\n",
    "task_15_func('adsdvrAdcsSdvdAcdcsdEfv')\n",
    "print('\\n')\n",
    "task_15_func('fvf1svsv1fvadfvGfvdfvCdfs343')\n",
    "print('\\n')\n",
    "task_15_func('vfkvndfkjvdfk')\n",
    "print('\\n')\n",
    "task_15_func('vvmslk1mvvlkm5vf')\n",
    "\n"
   ]
  },
  {
   "cell_type": "markdown",
   "metadata": {},
   "source": [
    "__Задание 16 (1.5 балла):__ Написать функцию, которая принимает на вход строку и извлекает из неё мобильные телефонные номера с помощью регулярных выражений. Функция должна поддерживать общепринятые варианты написания номера, как со всевозможными разделителями, так и без них (обеспечьте поддержку не менее 10 различных случаев). Возвращаемым значением функции является список всех найденных в строке номеров, если их не было, нужно вернуть пустой список."
   ]
  },
  {
   "cell_type": "code",
   "execution_count": null,
   "metadata": {},
   "outputs": [],
   "source": [
    "def task_16_func(n):\n",
    "    ..."
   ]
  },
  {
   "cell_type": "markdown",
   "metadata": {},
   "source": [
    "__Задание 17 (5 баллов):__ Опишем бинарное дерево, представленное в виде вложенных кортежей, в каждом узле дерева хранится вещественное число и ссылка на левое и правое поддерево.\n",
    "\n",
    "Пример: для сбалансированного дерева\n",
    "\n",
    "```\n",
    "        v_0\n",
    "       /   \\\n",
    "   v_11     v_12\n",
    "  /  \\       /  \\\n",
    "v_21 v_22  v_23 v_24\n",
    "```\n",
    "\n",
    "представление в виде кортежей будет выглядеть так:\n",
    "\n",
    "```\n",
    "(v_0,\n",
    "    (v_11,\n",
    "        (v_21, None, None),\n",
    "        (v_22, None, None)\n",
    "    ),\n",
    "    (v_12,\n",
    "        (v_23, None, None),\n",
    "        (v_24, None, None)\n",
    "    )\n",
    ")\n",
    "```\n",
    "\n",
    "Необходимо написать функцию, которая принимает на вход бинарное дерево (не обязательно сбалансированное), закодированное описанным способом в виде кортежа, производит его обход в глубину и для каждой листовой вершины вычисляет сумму всех значений от корня до неё включительно. Функция ничего не возвращает, вместо этого она выводит получаемые суммы в порядке следования листовых вершин (слева направо).\n",
    "\n",
    "Реализуйте два решения: на основе рекурсии и на основе циклов."
   ]
  },
  {
   "cell_type": "code",
   "execution_count": null,
   "metadata": {},
   "outputs": [],
   "source": [
    "def task_17_func(n):\n",
    "    ..."
   ]
  }
 ],
 "metadata": {
  "kernelspec": {
   "display_name": "Python 3",
   "language": "python",
   "name": "python3"
  },
  "language_info": {
   "codemirror_mode": {
    "name": "ipython",
    "version": 3
   },
   "file_extension": ".py",
   "mimetype": "text/x-python",
   "name": "python",
   "nbconvert_exporter": "python",
   "pygments_lexer": "ipython3",
   "version": "3.6.4"
  }
 },
 "nbformat": 4,
 "nbformat_minor": 2
}
